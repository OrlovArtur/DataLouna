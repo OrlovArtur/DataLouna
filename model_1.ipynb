{
  "nbformat": 4,
  "nbformat_minor": 0,
  "metadata": {
    "colab": {
      "provenance": [],
      "authorship_tag": "ABX9TyOfpGghpbGl2GiFzyBv2iPi"
    },
    "kernelspec": {
      "name": "python3",
      "display_name": "Python 3"
    },
    "language_info": {
      "name": "python"
    }
  },
  "cells": [
    {
      "cell_type": "markdown",
      "source": [
        "# Читаем файлы"
      ],
      "metadata": {
        "id": "-KPsvwq_TPcB"
      }
    },
    {
      "cell_type": "code",
      "execution_count": null,
      "metadata": {
        "colab": {
          "base_uri": "https://localhost:8080/"
        },
        "id": "HkvwLsLfDiB1",
        "outputId": "0f76e72b-5e12-44c7-b09e-9bc2d62e080a"
      },
      "outputs": [
        {
          "output_type": "stream",
          "name": "stdout",
          "text": [
            "/usr/local/lib/python3.8/dist-packages/gdown/cli.py:127: FutureWarning: Option `--id` was deprecated in version 4.3.1 and will be removed in 5.0. You don't need to pass it anymore to use a file ID.\n",
            "  warnings.warn(\n",
            "Downloading...\n",
            "From: https://drive.google.com/uc?id=11NIpw-ArcK-LHFENlai05GFL7H2ESTVv\n",
            "To: /content/train.csv\n",
            "100% 16.8k/16.8k [00:00<00:00, 19.5MB/s]\n"
          ]
        }
      ],
      "source": [
        "! gdown --id 11NIpw-ArcK-LHFENlai05GFL7H2ESTVv"
      ]
    },
    {
      "cell_type": "code",
      "source": [
        "! gdown --id 1HZgd7hwsfs6ZE6CZQl_GKiO-kWuHaSbq"
      ],
      "metadata": {
        "colab": {
          "base_uri": "https://localhost:8080/"
        },
        "id": "HDtj3-vhfBkL",
        "outputId": "f7e3b3ae-e099-4f0a-b1c7-250a822ae7a3"
      },
      "execution_count": null,
      "outputs": [
        {
          "output_type": "stream",
          "name": "stdout",
          "text": [
            "/usr/local/lib/python3.8/dist-packages/gdown/cli.py:127: FutureWarning: Option `--id` was deprecated in version 4.3.1 and will be removed in 5.0. You don't need to pass it anymore to use a file ID.\n",
            "  warnings.warn(\n",
            "Downloading...\n",
            "From: https://drive.google.com/uc?id=1HZgd7hwsfs6ZE6CZQl_GKiO-kWuHaSbq\n",
            "To: /content/test.csv\n",
            "100% 795/795 [00:00<00:00, 1.09MB/s]\n"
          ]
        }
      ]
    },
    {
      "cell_type": "code",
      "source": [
        "! gdown --id 1NNd5-H9uR_ENk_OQYtTQXoCMjwUgHl_l"
      ],
      "metadata": {
        "colab": {
          "base_uri": "https://localhost:8080/"
        },
        "id": "Jpw4S-FZhIVp",
        "outputId": "96121990-bc8a-4a36-d5ac-21ae0039c66c"
      },
      "execution_count": null,
      "outputs": [
        {
          "output_type": "stream",
          "name": "stdout",
          "text": [
            "/usr/local/lib/python3.8/dist-packages/gdown/cli.py:127: FutureWarning: Option `--id` was deprecated in version 4.3.1 and will be removed in 5.0. You don't need to pass it anymore to use a file ID.\n",
            "  warnings.warn(\n",
            "Downloading...\n",
            "From: https://drive.google.com/uc?id=1NNd5-H9uR_ENk_OQYtTQXoCMjwUgHl_l\n",
            "To: /content/players_feats.csv\n",
            "100% 842k/842k [00:00<00:00, 102MB/s]\n"
          ]
        }
      ]
    },
    {
      "cell_type": "code",
      "source": [
        "import pandas as pd\n",
        "train = pd.read_csv('/content/train.csv')\n",
        "test = pd.read_csv('/content/test.csv')\n",
        "players_feats = pd.read_csv('/content/players_feats.csv')"
      ],
      "metadata": {
        "id": "vRbWyi8dEhlq"
      },
      "execution_count": null,
      "outputs": []
    },
    {
      "cell_type": "markdown",
      "source": [
        "# Мерджим train с players_feats"
      ],
      "metadata": {
        "id": "gTC2UwlNTWqI"
      }
    },
    {
      "cell_type": "code",
      "source": [
        "#Создаем копию players_feats в которй переименован team_id team1_id\n",
        "t1 = players_feats.rename({'team_id': 'team1_id'},axis=1)"
      ],
      "metadata": {
        "id": "jmIqSNMqnPf6"
      },
      "execution_count": null,
      "outputs": []
    },
    {
      "cell_type": "code",
      "source": [
        "#Мерджим train с t1\n",
        "df1 = train.merge(t1,how='left',on=['map_id','team1_id'])"
      ],
      "metadata": {
        "id": "TawpoAiX2KM6"
      },
      "execution_count": null,
      "outputs": []
    },
    {
      "cell_type": "code",
      "source": [
        "#Создаем копию players_feats в которй переименован team_id на team2_id\n",
        "t2 = players_feats.rename({'team_id': 'team2_id'},axis=1)"
      ],
      "metadata": {
        "id": "lb5rHOdN4yI3"
      },
      "execution_count": null,
      "outputs": []
    },
    {
      "cell_type": "code",
      "source": [
        "#Мерджим df1 с t2 и получаем полный датафрейм df_full с которым будем работать далее\n",
        "df_full = df1.merge(t2,how='left',on=['map_id','team2_id'])"
      ],
      "metadata": {
        "id": "JIHGUVDU45FS"
      },
      "execution_count": null,
      "outputs": []
    },
    {
      "cell_type": "markdown",
      "source": [
        "Удаляю лишние столбцы с названием карт, которые продублировались после мерджей, оставляю только один"
      ],
      "metadata": {
        "id": "MeZwZgtV6UKY"
      }
    },
    {
      "cell_type": "code",
      "source": [
        "#удаляем столбцы\n",
        "df_full= df_full.drop(['map_name','map_name_y'], axis=1)"
      ],
      "metadata": {
        "id": "zALmnQgy5m2y"
      },
      "execution_count": null,
      "outputs": []
    },
    {
      "cell_type": "code",
      "source": [
        "#переименовываем оставшийся столбец для удобтва\n",
        "df_full = df_full.rename({'map_name_x': 'map_name'},axis=1)"
      ],
      "metadata": {
        "id": "iByFULI76Pmu"
      },
      "execution_count": null,
      "outputs": []
    },
    {
      "cell_type": "markdown",
      "source": [
        "Смотрим где есть пропуски данных и заполняем их значениями"
      ],
      "metadata": {
        "id": "sJ620-z-7Gx5"
      }
    },
    {
      "cell_type": "code",
      "source": [
        "#смотрим по каким столбцам есть NaN\n",
        "df_full.isna().mean()[df_full.isna().mean()> 0]"
      ],
      "metadata": {
        "colab": {
          "base_uri": "https://localhost:8080/"
        },
        "id": "MLzzroGf68Yt",
        "outputId": "9254c33d-1fd6-4e72-e365-a4ec76426cd3"
      },
      "execution_count": null,
      "outputs": [
        {
          "output_type": "execute_result",
          "data": {
            "text/plain": [
              "p1_team_win_percent_after_first_kill_x    0.001403\n",
              "p2_team_win_percent_after_first_kill_x    0.001403\n",
              "p3_team_win_percent_after_first_kill_x    0.002805\n",
              "p4_team_win_percent_after_first_kill_x    0.002805\n",
              "p5_team_win_percent_after_first_kill_x    0.001403\n",
              "p1_team_win_percent_after_first_kill_y    0.002805\n",
              "p2_team_win_percent_after_first_kill_y    0.002805\n",
              "p3_team_win_percent_after_first_kill_y    0.002805\n",
              "p4_team_win_percent_after_first_kill_y    0.002805\n",
              "p5_team_win_percent_after_first_kill_y    0.004208\n",
              "dtype: float64"
            ]
          },
          "metadata": {},
          "execution_count": 11
        }
      ]
    },
    {
      "cell_type": "code",
      "source": [
        "#заменяем наши пропуски данных(NaN) на 0\n",
        "df_full[['p1_team_win_percent_after_first_kill_x',\n",
        "             'p2_team_win_percent_after_first_kill_x',\n",
        "             'p3_team_win_percent_after_first_kill_x',\n",
        "             'p4_team_win_percent_after_first_kill_x',\n",
        "             'p5_team_win_percent_after_first_kill_x',\n",
        "             'p1_team_win_percent_after_first_kill_y',\n",
        "             'p2_team_win_percent_after_first_kill_y',\n",
        "             'p3_team_win_percent_after_first_kill_y',\n",
        "             'p4_team_win_percent_after_first_kill_y',\n",
        "             'p5_team_win_percent_after_first_kill_y']] = df_full[['p1_team_win_percent_after_first_kill_x',\n",
        "                                                                  'p2_team_win_percent_after_first_kill_x',\n",
        "                                                                  'p3_team_win_percent_after_first_kill_x',\n",
        "                                                                  'p4_team_win_percent_after_first_kill_x',\n",
        "                                                                  'p5_team_win_percent_after_first_kill_x',\n",
        "                                                                  'p1_team_win_percent_after_first_kill_y',\n",
        "                                                                  'p2_team_win_percent_after_first_kill_y',\n",
        "                                                                  'p3_team_win_percent_after_first_kill_y',\n",
        "                                                                  'p4_team_win_percent_after_first_kill_y',\n",
        "                                                                  'p5_team_win_percent_after_first_kill_y']].fillna(0)"
      ],
      "metadata": {
        "id": "ag8WpH77J895"
      },
      "execution_count": null,
      "outputs": []
    },
    {
      "cell_type": "code",
      "source": [
        "#проверяем все ли получилось\n",
        "df_full.isna().mean()[df_full.isna().mean()> 0]"
      ],
      "metadata": {
        "colab": {
          "base_uri": "https://localhost:8080/"
        },
        "id": "A-Waij2GM7I9",
        "outputId": "65ff03b0-751f-43b4-b48f-09780524124f"
      },
      "execution_count": null,
      "outputs": [
        {
          "output_type": "execute_result",
          "data": {
            "text/plain": [
              "Series([], dtype: float64)"
            ]
          },
          "metadata": {},
          "execution_count": 13
        }
      ]
    },
    {
      "cell_type": "markdown",
      "source": [
        "# Готовим данные для обучения модели"
      ],
      "metadata": {
        "id": "i6YaGmENTt9z"
      }
    },
    {
      "cell_type": "markdown",
      "source": [
        "Получили датасет, разбиваем его та тренировочную часть и валидацию"
      ],
      "metadata": {
        "id": "0o7jZl-7OGcr"
      }
    },
    {
      "cell_type": "code",
      "source": [
        "from sklearn.model_selection import train_test_split\n",
        "df_full_train, df_full_val = train_test_split(df_full,train_size=0.8,random_state=19)"
      ],
      "metadata": {
        "id": "zkrVPeOTOao9"
      },
      "execution_count": null,
      "outputs": []
    },
    {
      "cell_type": "code",
      "source": [
        "len(df_full_val)/len(df_full)"
      ],
      "metadata": {
        "colab": {
          "base_uri": "https://localhost:8080/"
        },
        "id": "jxPxufXEP5mj",
        "outputId": "d9b1bdeb-4e9a-4446-c24d-c4d0501235b6"
      },
      "execution_count": null,
      "outputs": [
        {
          "output_type": "execute_result",
          "data": {
            "text/plain": [
              "0.2005610098176718"
            ]
          },
          "metadata": {},
          "execution_count": 15
        }
      ]
    },
    {
      "cell_type": "code",
      "source": [
        "len(df_full_train)/len(df_full)"
      ],
      "metadata": {
        "colab": {
          "base_uri": "https://localhost:8080/"
        },
        "id": "-uw6irXuGSdS",
        "outputId": "8e6b113b-42d3-4fe5-a2c3-5ac7d01ccec0"
      },
      "execution_count": null,
      "outputs": [
        {
          "output_type": "execute_result",
          "data": {
            "text/plain": [
              "0.7994389901823282"
            ]
          },
          "metadata": {},
          "execution_count": 16
        }
      ]
    },
    {
      "cell_type": "markdown",
      "source": [
        "Задаем фичи для нашей модели"
      ],
      "metadata": {
        "id": "y0p-WMvbQX5M"
      }
    },
    {
      "cell_type": "code",
      "source": [
        "#Все столбцы будут фичами за искл таргета\n",
        "X= list(df_full_train.drop('who_win', axis=1))\n",
        "#задаем категориальную переменную\n",
        "cat_features = ['map_name']\n",
        "#задаем таргет\n",
        "y = ['who_win']"
      ],
      "metadata": {
        "id": "c17LYjDYQa-T"
      },
      "execution_count": null,
      "outputs": []
    },
    {
      "cell_type": "markdown",
      "source": [
        "# Запускаем модель"
      ],
      "metadata": {
        "id": "YQjy-jCcT68q"
      }
    },
    {
      "cell_type": "markdown",
      "source": [
        "Устанавливаем Catboost и запускаем его"
      ],
      "metadata": {
        "id": "wQIJNQdX1d4D"
      }
    },
    {
      "cell_type": "code",
      "source": [
        "! pip install catboost\n",
        "from catboost import CatBoostClassifier"
      ],
      "metadata": {
        "colab": {
          "base_uri": "https://localhost:8080/"
        },
        "id": "11WpxWNY1Buv",
        "outputId": "48c53b40-821e-40de-a124-0f9a9906eb03"
      },
      "execution_count": null,
      "outputs": [
        {
          "output_type": "stream",
          "name": "stdout",
          "text": [
            "Looking in indexes: https://pypi.org/simple, https://us-python.pkg.dev/colab-wheels/public/simple/\n",
            "Requirement already satisfied: catboost in /usr/local/lib/python3.8/dist-packages (1.1.1)\n",
            "Requirement already satisfied: matplotlib in /usr/local/lib/python3.8/dist-packages (from catboost) (3.2.2)\n",
            "Requirement already satisfied: plotly in /usr/local/lib/python3.8/dist-packages (from catboost) (5.5.0)\n",
            "Requirement already satisfied: pandas>=0.24.0 in /usr/local/lib/python3.8/dist-packages (from catboost) (1.3.5)\n",
            "Requirement already satisfied: numpy>=1.16.0 in /usr/local/lib/python3.8/dist-packages (from catboost) (1.21.6)\n",
            "Requirement already satisfied: scipy in /usr/local/lib/python3.8/dist-packages (from catboost) (1.7.3)\n",
            "Requirement already satisfied: six in /usr/local/lib/python3.8/dist-packages (from catboost) (1.15.0)\n",
            "Requirement already satisfied: graphviz in /usr/local/lib/python3.8/dist-packages (from catboost) (0.10.1)\n",
            "Requirement already satisfied: pytz>=2017.3 in /usr/local/lib/python3.8/dist-packages (from pandas>=0.24.0->catboost) (2022.7)\n",
            "Requirement already satisfied: python-dateutil>=2.7.3 in /usr/local/lib/python3.8/dist-packages (from pandas>=0.24.0->catboost) (2.8.2)\n",
            "Requirement already satisfied: pyparsing!=2.0.4,!=2.1.2,!=2.1.6,>=2.0.1 in /usr/local/lib/python3.8/dist-packages (from matplotlib->catboost) (3.0.9)\n",
            "Requirement already satisfied: kiwisolver>=1.0.1 in /usr/local/lib/python3.8/dist-packages (from matplotlib->catboost) (1.4.4)\n",
            "Requirement already satisfied: cycler>=0.10 in /usr/local/lib/python3.8/dist-packages (from matplotlib->catboost) (0.11.0)\n",
            "Requirement already satisfied: tenacity>=6.2.0 in /usr/local/lib/python3.8/dist-packages (from plotly->catboost) (8.1.0)\n"
          ]
        }
      ]
    },
    {
      "cell_type": "code",
      "source": [
        "#задаем параметры\n",
        "parameters = {'verbose':100,\n",
        "              'cat_features': cat_features,\n",
        "              'random_seed':19,\n",
        "              'eval_metric':'AUC',\n",
        "              'learning_rate': 0.00001}"
      ],
      "metadata": {
        "id": "hgEB0sVX17jD"
      },
      "execution_count": null,
      "outputs": []
    },
    {
      "cell_type": "code",
      "source": [
        "#запускаем обучение\n",
        "model = CatBoostClassifier(**parameters)\n",
        "model.fit(df_full_train[X],df_full_train[y],eval_set=(df_full_val[X],df_full_val[y]))"
      ],
      "metadata": {
        "colab": {
          "base_uri": "https://localhost:8080/"
        },
        "id": "7kUpciiI2X_X",
        "outputId": "ee73482c-fb16-4ba7-8830-76cc232615ce"
      },
      "execution_count": null,
      "outputs": [
        {
          "output_type": "stream",
          "name": "stdout",
          "text": [
            "0:\ttest: 0.4642157\tbest: 0.4642157 (0)\ttotal: 215ms\tremaining: 3m 34s\n",
            "100:\ttest: 0.6156863\tbest: 0.6243137 (96)\ttotal: 5.29s\tremaining: 47s\n",
            "200:\ttest: 0.6139216\tbest: 0.6243137 (96)\ttotal: 13.4s\tremaining: 53.2s\n",
            "300:\ttest: 0.6268627\tbest: 0.6325490 (256)\ttotal: 23s\tremaining: 53.4s\n",
            "400:\ttest: 0.6270588\tbest: 0.6325490 (256)\ttotal: 29.1s\tremaining: 43.4s\n",
            "500:\ttest: 0.6303922\tbest: 0.6325490 (256)\ttotal: 33.2s\tremaining: 33s\n",
            "600:\ttest: 0.6303922\tbest: 0.6329412 (556)\ttotal: 37.3s\tremaining: 24.7s\n",
            "700:\ttest: 0.6311765\tbest: 0.6343137 (627)\ttotal: 41.4s\tremaining: 17.7s\n",
            "800:\ttest: 0.6372549\tbest: 0.6388235 (763)\ttotal: 45.5s\tremaining: 11.3s\n",
            "900:\ttest: 0.6417647\tbest: 0.6417647 (900)\ttotal: 49.6s\tremaining: 5.45s\n",
            "999:\ttest: 0.6376471\tbest: 0.6421569 (901)\ttotal: 53.7s\tremaining: 0us\n",
            "\n",
            "bestTest = 0.6421568627\n",
            "bestIteration = 901\n",
            "\n",
            "Shrink model to first 902 iterations.\n"
          ]
        },
        {
          "output_type": "execute_result",
          "data": {
            "text/plain": [
              "<catboost.core.CatBoostClassifier at 0x7f055b474e50>"
            ]
          },
          "metadata": {},
          "execution_count": 20
        }
      ]
    },
    {
      "cell_type": "markdown",
      "source": [
        "# Обучимся на всех данных"
      ],
      "metadata": {
        "id": "dq_-FKofUqiQ"
      }
    },
    {
      "cell_type": "code",
      "source": [
        "#задаем параметры\n",
        "parameters = {'verbose':100,\n",
        "              'cat_features': cat_features,\n",
        "              'random_seed':19,\n",
        "              'eval_metric':'AUC',\n",
        "              'learning_rate': 0.00001,\n",
        "              'iterations': model.best_iteration_ + 1,}"
      ],
      "metadata": {
        "id": "BILmOjhdOA8E"
      },
      "execution_count": null,
      "outputs": []
    },
    {
      "cell_type": "code",
      "source": [
        "#запускаем обучение\n",
        "model = CatBoostClassifier(**parameters)\n",
        "model.fit(df_full[X],df_full[y])"
      ],
      "metadata": {
        "colab": {
          "base_uri": "https://localhost:8080/"
        },
        "id": "R85741UDOY7N",
        "outputId": "c30c8ca4-9976-400b-dcfe-0a93e7918ba8"
      },
      "execution_count": null,
      "outputs": [
        {
          "output_type": "stream",
          "name": "stdout",
          "text": [
            "0:\ttotal: 50.6ms\tremaining: 45.6s\n",
            "100:\ttotal: 6.84s\tremaining: 54.3s\n",
            "200:\ttotal: 18s\tremaining: 1m 2s\n",
            "300:\ttotal: 27.6s\tremaining: 55.2s\n",
            "400:\ttotal: 33s\tremaining: 41.2s\n",
            "500:\ttotal: 38.2s\tremaining: 30.6s\n",
            "600:\ttotal: 43.6s\tremaining: 21.8s\n",
            "700:\ttotal: 48.9s\tremaining: 14s\n",
            "800:\ttotal: 54.2s\tremaining: 6.83s\n",
            "900:\ttotal: 1m\tremaining: 67.3ms\n",
            "901:\ttotal: 1m\tremaining: 0us\n"
          ]
        },
        {
          "output_type": "execute_result",
          "data": {
            "text/plain": [
              "<catboost.core.CatBoostClassifier at 0x7f055266e490>"
            ]
          },
          "metadata": {},
          "execution_count": 22
        }
      ]
    },
    {
      "cell_type": "markdown",
      "source": [
        "Посмотрим на AUC для train"
      ],
      "metadata": {
        "id": "LLpeIhqTu5bC"
      }
    },
    {
      "cell_type": "code",
      "source": [
        "df_full['model_predict'] = model.predict(df_full[X])"
      ],
      "metadata": {
        "id": "D6QlIhSnu_jf"
      },
      "execution_count": null,
      "outputs": []
    },
    {
      "cell_type": "code",
      "source": [
        "import sklearn.metrics as metrics\n",
        "# calculate the fpr and tpr for all thresholds of the classification\n",
        "\n",
        "fpr, tpr, threshold = metrics.roc_curve(df_full['who_win'], df_full['model_predict'])\n",
        "roc_auc = metrics.auc(fpr, tpr)\n",
        "\n",
        "# method I: plt\n",
        "import matplotlib.pyplot as plt\n",
        "plt.title('Receiver Operating Characteristic')\n",
        "plt.plot(fpr, tpr, 'b', label = 'AUC = %0.2f' % roc_auc)\n",
        "plt.legend(loc = 'lower right')\n",
        "plt.plot([0, 1], [0, 1],'r--')\n",
        "plt.xlim([0, 1])\n",
        "plt.ylim([0, 1])\n",
        "plt.ylabel('True Positive Rate')\n",
        "plt.xlabel('False Positive Rate')\n",
        "plt.show()"
      ],
      "metadata": {
        "colab": {
          "base_uri": "https://localhost:8080/",
          "height": 295
        },
        "id": "-7hb2iYiu4Z9",
        "outputId": "0dc131b3-5cc9-438d-a078-a42d12fb8470"
      },
      "execution_count": null,
      "outputs": [
        {
          "output_type": "display_data",
          "data": {
            "text/plain": [
              "<Figure size 432x288 with 1 Axes>"
            ],
            "image/png": "[encoded data removed]"
          },
          "metadata": {
            "needs_background": "light"
          }
        }
      ]
    },
    {
      "cell_type": "markdown",
      "source": [
        "# Делаем предикт для test"
      ],
      "metadata": {
        "id": "sBXop7GgUBOW"
      }
    },
    {
      "cell_type": "markdown",
      "source": [
        "Теперь нужно смерджить аналогично данные с test и сделать предикт для test"
      ],
      "metadata": {
        "id": "fGL8dVStZLrW"
      }
    },
    {
      "cell_type": "code",
      "source": [
        "#Мерджим test с t1\n",
        "test1 = test.merge(t1,how='left',on=['map_id','team1_id'])"
      ],
      "metadata": {
        "id": "Z6In21qjy0rz"
      },
      "execution_count": null,
      "outputs": []
    },
    {
      "cell_type": "code",
      "source": [
        "#Мерджим test1 с t2 и получаем полный датафрейм test_full с которым будем работать далее\n",
        "test_full = test1.merge(t2,how='left',on=['map_id','team2_id'])"
      ],
      "metadata": {
        "id": "SnIt5Yx2y0r0"
      },
      "execution_count": null,
      "outputs": []
    },
    {
      "cell_type": "markdown",
      "source": [
        "Удаляю лишние столбцы с названием карт, которые продублировались после мерджей, оставляю только один"
      ],
      "metadata": {
        "id": "-Wram1Avy0r1"
      }
    },
    {
      "cell_type": "code",
      "source": [
        "#удаляем столбцы\n",
        "test_full= test_full.drop(['map_name','map_name_y'], axis=1)"
      ],
      "metadata": {
        "id": "7eC7w44Cy0r1"
      },
      "execution_count": null,
      "outputs": []
    },
    {
      "cell_type": "code",
      "source": [
        "#переименовываем оставшийся столбец для удобтва\n",
        "test_full = test_full.rename({'map_name_x': 'map_name'},axis=1)"
      ],
      "metadata": {
        "id": "1NW6d17hy0r1"
      },
      "execution_count": null,
      "outputs": []
    },
    {
      "cell_type": "markdown",
      "source": [
        "Смотрим где есть пропуски данных(если есть) и заполняем их значениями"
      ],
      "metadata": {
        "id": "Y5eVz0Jny0r1"
      }
    },
    {
      "cell_type": "code",
      "source": [
        "#смотрим по каким столбцам есть NaN\n",
        "test_full.isna().mean()[test_full.isna().mean()> 0]"
      ],
      "metadata": {
        "colab": {
          "base_uri": "https://localhost:8080/"
        },
        "outputId": "a790770b-0018-470a-8ae2-4a2df403bd0b",
        "id": "0RhRUxx5y0r2"
      },
      "execution_count": null,
      "outputs": [
        {
          "output_type": "execute_result",
          "data": {
            "text/plain": [
              "Series([], dtype: float64)"
            ]
          },
          "metadata": {},
          "execution_count": 29
        }
      ]
    },
    {
      "cell_type": "markdown",
      "source": [
        "Предикт для test"
      ],
      "metadata": {
        "id": "54nreL3Xzvjc"
      }
    },
    {
      "cell_type": "code",
      "source": [
        "test_full['model_predict'] = model.predict(test_full[X])"
      ],
      "metadata": {
        "id": "I_SfiNhrzzB3"
      },
      "execution_count": null,
      "outputs": []
    },
    {
      "cell_type": "markdown",
      "source": [
        "Удаляем лишние столбцы для наглядности результата"
      ],
      "metadata": {
        "id": "bv8csBk70AMf"
      }
    },
    {
      "cell_type": "code",
      "source": [
        "test_full= test_full.drop(list(test_full.drop(['index','map_id','team1_id','team2_id','map_name','model_predict'], axis=1)), axis=1)"
      ],
      "metadata": {
        "id": "iGSJTe1d0HOI"
      },
      "execution_count": null,
      "outputs": []
    },
    {
      "cell_type": "markdown",
      "source": [
        "Выгружаем наш test в отдельный csv"
      ],
      "metadata": {
        "id": "6spXj0Ih1kaW"
      }
    },
    {
      "cell_type": "markdown",
      "source": [
        "Выгружаем файл с предиктом"
      ],
      "metadata": {
        "id": "UhUORRKElfzg"
      }
    },
    {
      "cell_type": "code",
      "source": [
        "test_full.to_csv (r'/content/Data_louna_test_predict/test_predict1.csv')"
      ],
      "metadata": {
        "id": "_XaB5KAzTB3g"
      },
      "execution_count": null,
      "outputs": []
    },
    {
      "cell_type": "code",
      "source": [
        "!git clone https://github.com/OrlovArtur/Test"
      ],
      "metadata": {
        "colab": {
          "base_uri": "https://localhost:8080/"
        },
        "id": "BeNk96GDwp6h",
        "outputId": "6c4ed0c7-901f-4a5f-a582-64e1a3a3093d"
      },
      "execution_count": null,
      "outputs": [
        {
          "output_type": "stream",
          "name": "stdout",
          "text": [
            "Cloning into 'Test'...\n",
            "warning: You appear to have cloned an empty repository.\n"
          ]
        }
      ]
    }
  ]
}